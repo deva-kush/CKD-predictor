{
 "cells": [
  {
   "cell_type": "markdown",
   "id": "748b1d1f",
   "metadata": {},
   "source": [
    "### Loading the dataset"
   ]
  },
  {
   "cell_type": "code",
   "execution_count": 8,
   "id": "d9db8ddd",
   "metadata": {},
   "outputs": [],
   "source": [
    "import pandas as pd\n",
    "import numpy as np\n",
    "\n",
    "# Fix: Use the correct path to the dataset file\n",
    "df = pd.read_csv('/home/deva_kush/ml_projects/CKD/data/kidney_disease.csv')"
   ]
  },
  {
   "cell_type": "markdown",
   "id": "c50ee6f0",
   "metadata": {},
   "source": [
    "### Dataset Information\n",
    "\n",
    "We use the following representation to collect the dataset\n",
    "            age\t\t-\tage,\t\n",
    "\t\t\tbp\t\t-\tblood pressure,\n",
    "\t\t\tsg\t\t-\tspecific gravity,\n",
    "\t\t\tal\t\t-   albumin,\n",
    "\t\t\tsu\t\t-\tsugar,\n",
    "\t\t\trbc\t\t-\tred blood cells,\n",
    "\t\t\tpc\t\t-\tpus cell,\n",
    "\t\t\tpcc\t\t-\tpus cell clumps,\n",
    "\t\t\tba\t\t-\tbacteria,\n",
    "\t\t\tbgr\t\t-\tblood glucose random,\n",
    "\t\t\tbu\t\t-\tblood urea,\n",
    "\t\t\tsc\t\t-\tserum creatinine,\n",
    "\t\t\tsod\t\t-\tsodium,\n",
    "\t\t\tpot\t\t-\tpotassium,\n",
    "\t\t\themo\t-\themoglobin,\n",
    "\t\t\tpcv\t\t-\tpacked cell volume,\n",
    "\t\t\twc\t\t-\twhite blood cell count,\n",
    "\t\t\trc\t\t-\tred blood cell count,\n",
    "\t\t\thtn\t\t-\thypertension,\n",
    "\t\t\tdm\t\t-\tdiabetes mellitus,\n",
    "\t\t\tcad\t\t-\tcoronary artery disease,\n",
    "\t\t\tappet\t-\tappetite,\n",
    "\t\t\tpe\t\t-\tpedal edema,\n",
    "\t\t\tane\t\t-\tanemia,\n",
    "\t\t\tclass\t-\tclass"
   ]
  },
  {
   "cell_type": "code",
   "execution_count": 9,
   "id": "3b0ffd3b",
   "metadata": {},
   "outputs": [
    {
     "name": "stdout",
     "output_type": "stream",
     "text": [
      "📊 Dataset Shape: (300, 26)\n",
      "\n",
      "🧾 Column Names:\n",
      " ['id', 'age', 'bp', 'sg', 'al', 'su', 'rbc', 'pc', 'pcc', 'ba', 'bgr', 'bu', 'sc', 'sod', 'pot', 'hemo', 'pcv', 'wc', 'rc', 'htn', 'dm', 'cad', 'appet', 'pe', 'ane', 'classification']\n",
      "\n",
      "🔍 First 5 Rows:\n"
     ]
    },
    {
     "data": {
      "text/html": [
       "<div>\n",
       "<style scoped>\n",
       "    .dataframe tbody tr th:only-of-type {\n",
       "        vertical-align: middle;\n",
       "    }\n",
       "\n",
       "    .dataframe tbody tr th {\n",
       "        vertical-align: top;\n",
       "    }\n",
       "\n",
       "    .dataframe thead th {\n",
       "        text-align: right;\n",
       "    }\n",
       "</style>\n",
       "<table border=\"1\" class=\"dataframe\">\n",
       "  <thead>\n",
       "    <tr style=\"text-align: right;\">\n",
       "      <th></th>\n",
       "      <th>id</th>\n",
       "      <th>age</th>\n",
       "      <th>bp</th>\n",
       "      <th>sg</th>\n",
       "      <th>al</th>\n",
       "      <th>su</th>\n",
       "      <th>rbc</th>\n",
       "      <th>pc</th>\n",
       "      <th>pcc</th>\n",
       "      <th>ba</th>\n",
       "      <th>...</th>\n",
       "      <th>pcv</th>\n",
       "      <th>wc</th>\n",
       "      <th>rc</th>\n",
       "      <th>htn</th>\n",
       "      <th>dm</th>\n",
       "      <th>cad</th>\n",
       "      <th>appet</th>\n",
       "      <th>pe</th>\n",
       "      <th>ane</th>\n",
       "      <th>classification</th>\n",
       "    </tr>\n",
       "  </thead>\n",
       "  <tbody>\n",
       "    <tr>\n",
       "      <th>0</th>\n",
       "      <td>99</td>\n",
       "      <td>56.0</td>\n",
       "      <td>180.0</td>\n",
       "      <td>NaN</td>\n",
       "      <td>0.0</td>\n",
       "      <td>4.0</td>\n",
       "      <td>NaN</td>\n",
       "      <td>abnormal</td>\n",
       "      <td>notpresent</td>\n",
       "      <td>notpresent</td>\n",
       "      <td>...</td>\n",
       "      <td>32.0</td>\n",
       "      <td>10400</td>\n",
       "      <td>4.2</td>\n",
       "      <td>yes</td>\n",
       "      <td>yes</td>\n",
       "      <td>no</td>\n",
       "      <td>poor</td>\n",
       "      <td>yes</td>\n",
       "      <td>no</td>\n",
       "      <td>ckd</td>\n",
       "    </tr>\n",
       "    <tr>\n",
       "      <th>1</th>\n",
       "      <td>100</td>\n",
       "      <td>34.0</td>\n",
       "      <td>70.0</td>\n",
       "      <td>1.015</td>\n",
       "      <td>4.0</td>\n",
       "      <td>0.0</td>\n",
       "      <td>abnormal</td>\n",
       "      <td>abnormal</td>\n",
       "      <td>notpresent</td>\n",
       "      <td>notpresent</td>\n",
       "      <td>...</td>\n",
       "      <td>NaN</td>\n",
       "      <td>NaN</td>\n",
       "      <td>NaN</td>\n",
       "      <td>no</td>\n",
       "      <td>no</td>\n",
       "      <td>no</td>\n",
       "      <td>good</td>\n",
       "      <td>yes</td>\n",
       "      <td>no</td>\n",
       "      <td>ckd</td>\n",
       "    </tr>\n",
       "    <tr>\n",
       "      <th>2</th>\n",
       "      <td>101</td>\n",
       "      <td>71.0</td>\n",
       "      <td>90.0</td>\n",
       "      <td>1.015</td>\n",
       "      <td>2.0</td>\n",
       "      <td>0.0</td>\n",
       "      <td>NaN</td>\n",
       "      <td>abnormal</td>\n",
       "      <td>present</td>\n",
       "      <td>present</td>\n",
       "      <td>...</td>\n",
       "      <td>33.0</td>\n",
       "      <td>10700</td>\n",
       "      <td>3.9</td>\n",
       "      <td>no</td>\n",
       "      <td>no</td>\n",
       "      <td>no</td>\n",
       "      <td>good</td>\n",
       "      <td>no</td>\n",
       "      <td>no</td>\n",
       "      <td>ckd</td>\n",
       "    </tr>\n",
       "    <tr>\n",
       "      <th>3</th>\n",
       "      <td>102</td>\n",
       "      <td>17.0</td>\n",
       "      <td>60.0</td>\n",
       "      <td>1.010</td>\n",
       "      <td>0.0</td>\n",
       "      <td>0.0</td>\n",
       "      <td>NaN</td>\n",
       "      <td>normal</td>\n",
       "      <td>notpresent</td>\n",
       "      <td>notpresent</td>\n",
       "      <td>...</td>\n",
       "      <td>52.0</td>\n",
       "      <td>7000</td>\n",
       "      <td>NaN</td>\n",
       "      <td>no</td>\n",
       "      <td>no</td>\n",
       "      <td>no</td>\n",
       "      <td>good</td>\n",
       "      <td>no</td>\n",
       "      <td>no</td>\n",
       "      <td>ckd</td>\n",
       "    </tr>\n",
       "    <tr>\n",
       "      <th>4</th>\n",
       "      <td>103</td>\n",
       "      <td>76.0</td>\n",
       "      <td>70.0</td>\n",
       "      <td>1.015</td>\n",
       "      <td>2.0</td>\n",
       "      <td>0.0</td>\n",
       "      <td>normal</td>\n",
       "      <td>abnormal</td>\n",
       "      <td>present</td>\n",
       "      <td>notpresent</td>\n",
       "      <td>...</td>\n",
       "      <td>36.0</td>\n",
       "      <td>12700</td>\n",
       "      <td>4.2</td>\n",
       "      <td>yes</td>\n",
       "      <td>no</td>\n",
       "      <td>no</td>\n",
       "      <td>poor</td>\n",
       "      <td>yes</td>\n",
       "      <td>yes</td>\n",
       "      <td>ckd</td>\n",
       "    </tr>\n",
       "  </tbody>\n",
       "</table>\n",
       "<p>5 rows × 26 columns</p>\n",
       "</div>"
      ],
      "text/plain": [
       "    id   age     bp     sg   al   su       rbc        pc         pcc  \\\n",
       "0   99  56.0  180.0    NaN  0.0  4.0       NaN  abnormal  notpresent   \n",
       "1  100  34.0   70.0  1.015  4.0  0.0  abnormal  abnormal  notpresent   \n",
       "2  101  71.0   90.0  1.015  2.0  0.0       NaN  abnormal     present   \n",
       "3  102  17.0   60.0  1.010  0.0  0.0       NaN    normal  notpresent   \n",
       "4  103  76.0   70.0  1.015  2.0  0.0    normal  abnormal     present   \n",
       "\n",
       "           ba  ...   pcv     wc   rc  htn   dm  cad  appet   pe  ane  \\\n",
       "0  notpresent  ...  32.0  10400  4.2  yes  yes   no   poor  yes   no   \n",
       "1  notpresent  ...   NaN    NaN  NaN   no   no   no   good  yes   no   \n",
       "2     present  ...  33.0  10700  3.9   no   no   no   good   no   no   \n",
       "3  notpresent  ...  52.0   7000  NaN   no   no   no   good   no   no   \n",
       "4  notpresent  ...  36.0  12700  4.2  yes   no   no   poor  yes  yes   \n",
       "\n",
       "  classification  \n",
       "0            ckd  \n",
       "1            ckd  \n",
       "2            ckd  \n",
       "3            ckd  \n",
       "4            ckd  \n",
       "\n",
       "[5 rows x 26 columns]"
      ]
     },
     "metadata": {},
     "output_type": "display_data"
    },
    {
     "name": "stdout",
     "output_type": "stream",
     "text": [
      "\n",
      "📦 Data Types:\n",
      "id                  int64\n",
      "age               float64\n",
      "bp                float64\n",
      "sg                float64\n",
      "al                float64\n",
      "su                float64\n",
      "rbc                object\n",
      "pc                 object\n",
      "pcc                object\n",
      "ba                 object\n",
      "bgr               float64\n",
      "bu                float64\n",
      "sc                float64\n",
      "sod               float64\n",
      "pot               float64\n",
      "hemo              float64\n",
      "pcv               float64\n",
      "wc                 object\n",
      "rc                 object\n",
      "htn                object\n",
      "dm                 object\n",
      "cad                object\n",
      "appet              object\n",
      "pe                 object\n",
      "ane                object\n",
      "classification     object\n",
      "dtype: object\n"
     ]
    },
    {
     "data": {
      "text/html": [
       "<div>\n",
       "<style scoped>\n",
       "    .dataframe tbody tr th:only-of-type {\n",
       "        vertical-align: middle;\n",
       "    }\n",
       "\n",
       "    .dataframe tbody tr th {\n",
       "        vertical-align: top;\n",
       "    }\n",
       "\n",
       "    .dataframe thead th {\n",
       "        text-align: right;\n",
       "    }\n",
       "</style>\n",
       "<table border=\"1\" class=\"dataframe\">\n",
       "  <thead>\n",
       "    <tr style=\"text-align: right;\">\n",
       "      <th></th>\n",
       "      <th>id</th>\n",
       "      <th>age</th>\n",
       "      <th>bp</th>\n",
       "      <th>sg</th>\n",
       "      <th>al</th>\n",
       "      <th>su</th>\n",
       "      <th>bgr</th>\n",
       "      <th>bu</th>\n",
       "      <th>sc</th>\n",
       "      <th>sod</th>\n",
       "      <th>pot</th>\n",
       "      <th>hemo</th>\n",
       "      <th>pcv</th>\n",
       "    </tr>\n",
       "  </thead>\n",
       "  <tbody>\n",
       "    <tr>\n",
       "      <th>count</th>\n",
       "      <td>300.000000</td>\n",
       "      <td>293.000000</td>\n",
       "      <td>290.000000</td>\n",
       "      <td>267.000000</td>\n",
       "      <td>267.000000</td>\n",
       "      <td>265.000000</td>\n",
       "      <td>273.000000</td>\n",
       "      <td>286.000000</td>\n",
       "      <td>287.000000</td>\n",
       "      <td>247.000000</td>\n",
       "      <td>247.000000</td>\n",
       "      <td>265.000000</td>\n",
       "      <td>256.000000</td>\n",
       "    </tr>\n",
       "    <tr>\n",
       "      <th>mean</th>\n",
       "      <td>249.006667</td>\n",
       "      <td>49.972696</td>\n",
       "      <td>75.310345</td>\n",
       "      <td>1.018670</td>\n",
       "      <td>0.775281</td>\n",
       "      <td>0.373585</td>\n",
       "      <td>141.098901</td>\n",
       "      <td>52.741958</td>\n",
       "      <td>2.591986</td>\n",
       "      <td>138.785425</td>\n",
       "      <td>4.551012</td>\n",
       "      <td>13.098113</td>\n",
       "      <td>40.531250</td>\n",
       "    </tr>\n",
       "    <tr>\n",
       "      <th>std</th>\n",
       "      <td>87.180779</td>\n",
       "      <td>17.495575</td>\n",
       "      <td>13.621435</td>\n",
       "      <td>0.005399</td>\n",
       "      <td>1.298520</td>\n",
       "      <td>1.003809</td>\n",
       "      <td>72.326627</td>\n",
       "      <td>47.755443</td>\n",
       "      <td>4.304881</td>\n",
       "      <td>6.806748</td>\n",
       "      <td>2.805741</td>\n",
       "      <td>2.878110</td>\n",
       "      <td>8.815706</td>\n",
       "    </tr>\n",
       "    <tr>\n",
       "      <th>min</th>\n",
       "      <td>99.000000</td>\n",
       "      <td>2.000000</td>\n",
       "      <td>50.000000</td>\n",
       "      <td>1.005000</td>\n",
       "      <td>0.000000</td>\n",
       "      <td>0.000000</td>\n",
       "      <td>22.000000</td>\n",
       "      <td>1.500000</td>\n",
       "      <td>0.400000</td>\n",
       "      <td>113.000000</td>\n",
       "      <td>2.500000</td>\n",
       "      <td>3.100000</td>\n",
       "      <td>9.000000</td>\n",
       "    </tr>\n",
       "    <tr>\n",
       "      <th>25%</th>\n",
       "      <td>173.750000</td>\n",
       "      <td>39.000000</td>\n",
       "      <td>70.000000</td>\n",
       "      <td>1.015000</td>\n",
       "      <td>0.000000</td>\n",
       "      <td>0.000000</td>\n",
       "      <td>99.000000</td>\n",
       "      <td>26.000000</td>\n",
       "      <td>0.800000</td>\n",
       "      <td>135.000000</td>\n",
       "      <td>3.800000</td>\n",
       "      <td>11.200000</td>\n",
       "      <td>35.000000</td>\n",
       "    </tr>\n",
       "    <tr>\n",
       "      <th>50%</th>\n",
       "      <td>249.500000</td>\n",
       "      <td>52.000000</td>\n",
       "      <td>70.000000</td>\n",
       "      <td>1.020000</td>\n",
       "      <td>0.000000</td>\n",
       "      <td>0.000000</td>\n",
       "      <td>118.000000</td>\n",
       "      <td>40.000000</td>\n",
       "      <td>1.200000</td>\n",
       "      <td>139.000000</td>\n",
       "      <td>4.400000</td>\n",
       "      <td>13.700000</td>\n",
       "      <td>42.000000</td>\n",
       "    </tr>\n",
       "    <tr>\n",
       "      <th>75%</th>\n",
       "      <td>324.250000</td>\n",
       "      <td>63.000000</td>\n",
       "      <td>80.000000</td>\n",
       "      <td>1.025000</td>\n",
       "      <td>1.000000</td>\n",
       "      <td>0.000000</td>\n",
       "      <td>140.000000</td>\n",
       "      <td>51.000000</td>\n",
       "      <td>2.200000</td>\n",
       "      <td>143.000000</td>\n",
       "      <td>4.900000</td>\n",
       "      <td>15.200000</td>\n",
       "      <td>48.000000</td>\n",
       "    </tr>\n",
       "    <tr>\n",
       "      <th>max</th>\n",
       "      <td>399.000000</td>\n",
       "      <td>90.000000</td>\n",
       "      <td>180.000000</td>\n",
       "      <td>1.025000</td>\n",
       "      <td>5.000000</td>\n",
       "      <td>5.000000</td>\n",
       "      <td>490.000000</td>\n",
       "      <td>322.000000</td>\n",
       "      <td>48.100000</td>\n",
       "      <td>150.000000</td>\n",
       "      <td>47.000000</td>\n",
       "      <td>17.800000</td>\n",
       "      <td>54.000000</td>\n",
       "    </tr>\n",
       "  </tbody>\n",
       "</table>\n",
       "</div>"
      ],
      "text/plain": [
       "               id         age          bp          sg          al          su  \\\n",
       "count  300.000000  293.000000  290.000000  267.000000  267.000000  265.000000   \n",
       "mean   249.006667   49.972696   75.310345    1.018670    0.775281    0.373585   \n",
       "std     87.180779   17.495575   13.621435    0.005399    1.298520    1.003809   \n",
       "min     99.000000    2.000000   50.000000    1.005000    0.000000    0.000000   \n",
       "25%    173.750000   39.000000   70.000000    1.015000    0.000000    0.000000   \n",
       "50%    249.500000   52.000000   70.000000    1.020000    0.000000    0.000000   \n",
       "75%    324.250000   63.000000   80.000000    1.025000    1.000000    0.000000   \n",
       "max    399.000000   90.000000  180.000000    1.025000    5.000000    5.000000   \n",
       "\n",
       "              bgr          bu          sc         sod         pot        hemo  \\\n",
       "count  273.000000  286.000000  287.000000  247.000000  247.000000  265.000000   \n",
       "mean   141.098901   52.741958    2.591986  138.785425    4.551012   13.098113   \n",
       "std     72.326627   47.755443    4.304881    6.806748    2.805741    2.878110   \n",
       "min     22.000000    1.500000    0.400000  113.000000    2.500000    3.100000   \n",
       "25%     99.000000   26.000000    0.800000  135.000000    3.800000   11.200000   \n",
       "50%    118.000000   40.000000    1.200000  139.000000    4.400000   13.700000   \n",
       "75%    140.000000   51.000000    2.200000  143.000000    4.900000   15.200000   \n",
       "max    490.000000  322.000000   48.100000  150.000000   47.000000   17.800000   \n",
       "\n",
       "              pcv  \n",
       "count  256.000000  \n",
       "mean    40.531250  \n",
       "std      8.815706  \n",
       "min      9.000000  \n",
       "25%     35.000000  \n",
       "50%     42.000000  \n",
       "75%     48.000000  \n",
       "max     54.000000  "
      ]
     },
     "execution_count": 9,
     "metadata": {},
     "output_type": "execute_result"
    }
   ],
   "source": [
    "# 3. Show basic info\n",
    "print(\"📊 Dataset Shape:\", df.shape)\n",
    "print(\"\\n🧾 Column Names:\\n\", df.columns.tolist())\n",
    "\n",
    "# 4. Display first few rows\n",
    "print(\"\\n🔍 First 5 Rows:\")\n",
    "display(df.head())\n",
    "\n",
    "# 5. Data types\n",
    "print(\"\\n📦 Data Types:\")\n",
    "print(df.dtypes)\n",
    "\n",
    "df.describe()"
   ]
  },
  {
   "cell_type": "markdown",
   "id": "ee2f9289",
   "metadata": {},
   "source": [
    "### Exploring the Data"
   ]
  },
  {
   "cell_type": "code",
   "execution_count": 10,
   "id": "aeeae6eb",
   "metadata": {},
   "outputs": [
    {
     "name": "stdout",
     "output_type": "stream",
     "text": [
      "\n",
      "❗ Missing Values Per Column:\n",
      "id                 0\n",
      "age                7\n",
      "bp                10\n",
      "sg                33\n",
      "al                33\n",
      "su                35\n",
      "rbc               96\n",
      "pc                45\n",
      "pcc                4\n",
      "ba                 4\n",
      "bgr               27\n",
      "bu                14\n",
      "sc                13\n",
      "sod               53\n",
      "pot               53\n",
      "hemo              35\n",
      "pcv               44\n",
      "wc                66\n",
      "rc                87\n",
      "htn                2\n",
      "dm                 2\n",
      "cad                2\n",
      "appet              1\n",
      "pe                 1\n",
      "ane                1\n",
      "classification     0\n",
      "dtype: int64\n",
      "\n",
      "🎯 Target Variable Distribution:\n",
      "classification\n",
      "notckd    150\n",
      "ckd       149\n",
      "ckd\\t       1\n",
      "Name: count, dtype: int64\n"
     ]
    }
   ],
   "source": [
    "print(\"\\n❗ Missing Values Per Column:\")\n",
    "print(df.isnull().sum())\n",
    "\n",
    "# 7. Check unique values of target column\n",
    "if 'classification' in df.columns:\n",
    "    print(\"\\n🎯 Target Variable Distribution:\")\n",
    "    print(df['classification'].value_counts())\n",
    "    \n",
    "\n"
   ]
  },
  {
   "cell_type": "markdown",
   "id": "307fcf61",
   "metadata": {},
   "source": [
    "### Cleaning\n"
   ]
  },
  {
   "cell_type": "code",
   "execution_count": 11,
   "id": "4f81f223",
   "metadata": {},
   "outputs": [
    {
     "name": "stdout",
     "output_type": "stream",
     "text": [
      "🧼 Nulls After Cleaning:\n",
      "age                7\n",
      "bp                10\n",
      "sg                33\n",
      "al                33\n",
      "su                35\n",
      "rbc               96\n",
      "pc                45\n",
      "pcc                4\n",
      "ba                 4\n",
      "bgr               27\n",
      "bu                14\n",
      "sc                13\n",
      "sod               53\n",
      "pot               53\n",
      "hemo              35\n",
      "pcv               44\n",
      "wc                67\n",
      "rc                88\n",
      "htn                2\n",
      "dm                 5\n",
      "cad                2\n",
      "appet              1\n",
      "pe                 1\n",
      "ane                1\n",
      "classification     0\n",
      "dtype: int64\n"
     ]
    }
   ],
   "source": [
    "df = df.drop(columns=['id'])\n",
    "df['classification'] = df['classification'].str.strip()\n",
    "df = df.replace('?', np.nan)\n",
    "\n",
    "for col in ['pcv', 'wc', 'rc']:\n",
    "    df[col] = pd.to_numeric(df[col], errors='coerce')\n",
    "\n",
    "\n",
    "binary_map = {'yes': 1, 'no': 0, 'present': 1, 'notpresent': 0, 'good': 1, 'poor': 0}\n",
    "for col in ['htn', 'dm', 'cad', 'appet', 'pe', 'ane', 'pcc', 'ba']:\n",
    "    df[col] = df[col].map(binary_map)\n",
    "\n",
    "df['classification'] = df['classification'].map({'ckd': 1, 'notckd': 0})\n",
    "\n",
    "\n",
    "df['rbc'] = df['rbc'].map({'normal': 1, 'abnormal': 0})\n",
    "df['pc'] = df['pc'].map({'normal': 1, 'abnormal': 0})\n",
    "\n",
    "# Check again for nulls\n",
    "print(\"🧼 Nulls After Cleaning:\")\n",
    "print(df.isnull().sum())\n"
   ]
  },
  {
   "cell_type": "markdown",
   "id": "7897ac3a",
   "metadata": {},
   "source": [
    "### Handling Missing Values"
   ]
  },
  {
   "cell_type": "code",
   "execution_count": 12,
   "id": "2917055c",
   "metadata": {},
   "outputs": [
    {
     "name": "stdout",
     "output_type": "stream",
     "text": [
      "✅ Nulls Remaining (Post-Imputation):\n",
      "0\n"
     ]
    }
   ],
   "source": [
    "num_cols = ['age', 'bp', 'sg', 'al', 'su', 'bgr', 'bu', 'sc', 'sod', 'pot', 'hemo', 'pcv', 'wc', 'rc']\n",
    "for col in num_cols:\n",
    "    df[col] = df[col].fillna(df[col].median())\n",
    "\n",
    "cat_cols = ['rbc', 'pc', 'pcc', 'ba', 'htn', 'dm', 'cad', 'appet', 'pe', 'ane']\n",
    "for col in cat_cols:\n",
    "    df[col] = df[col].fillna(df[col].mode()[0])\n",
    "\n",
    "\n",
    "print(\"✅ Nulls Remaining (Post-Imputation):\")\n",
    "print(df.isnull().sum().sum())  \n",
    "\n",
    "\n",
    "\n"
   ]
  },
  {
   "cell_type": "markdown",
   "id": "97e994a3",
   "metadata": {},
   "source": [
    "### Feature Scaling\n"
   ]
  },
  {
   "cell_type": "code",
   "execution_count": 13,
   "id": "50d9aa7b",
   "metadata": {},
   "outputs": [
    {
     "name": "stdout",
     "output_type": "stream",
     "text": [
      "✅ Final Data Shape: (300, 24)\n",
      "✅ Target Class Balance:\n",
      " classification\n",
      "1    150\n",
      "0    150\n",
      "Name: count, dtype: int64\n"
     ]
    }
   ],
   "source": [
    "from sklearn.preprocessing import StandardScaler\n",
    "from sklearn.model_selection import train_test_split\n",
    "\n",
    "# Extract features and target\n",
    "X = df.drop(columns=['classification'])\n",
    "y = df['classification']\n",
    "\n",
    "# Identify numeric columns\n",
    "numeric_cols = X.select_dtypes(include=['float64', 'int64']).columns\n",
    "\n",
    "# 80-20 split with stratification (to preserve class balance)\n",
    "X_train, X_test, y_train, y_test = train_test_split(\n",
    "    X, y, test_size=0.2, stratify=y, random_state=42\n",
    ")\n",
    "\n",
    "# Apply Standard Scaling - CORRECT WAY\n",
    "scaler = StandardScaler()\n",
    "X_train[numeric_cols] = scaler.fit_transform(X_train[numeric_cols])\n",
    "X_test[numeric_cols] = scaler.transform(X_test[numeric_cols])\n",
    "\n",
    "print(\"✅ Final Data Shape:\", X.shape)\n",
    "print(\"✅ Target Class Balance:\\n\", y.value_counts())\n",
    "\n"
   ]
  },
  {
   "cell_type": "markdown",
   "id": "047cbb68",
   "metadata": {},
   "source": [
    "### Train-Test Split & Baseline Model"
   ]
  },
  {
   "cell_type": "markdown",
   "id": "27fc59b6",
   "metadata": {},
   "source": [
    "from sklearn.linear_model import LogisticRegression\n",
    "from sklearn.metrics import classification_report, accuracy_score, confusion_matrix\n",
    "\n",
    "# Train\n",
    "model = LogisticRegression(max_iter=1000)\n",
    "model.fit(X_train, y_train)\n",
    "\n",
    "# Predict\n",
    "y_pred = model.predict(X_test)\n",
    "\n",
    "# Evaluate\n",
    "print(\"🎯 Accuracy:\", accuracy_score(y_test, y_pred))\n",
    "print(\"🧾 Classification Report:\\n\", classification_report(y_test, y_pred))\n",
    "print(\"🧩 Confusion Matrix:\\n\", confusion_matrix(y_test, y_pred))\n"
   ]
  },
  {
   "cell_type": "markdown",
   "id": "bc57bb2a",
   "metadata": {},
   "source": [
    "### Comparing Multiple Models\n"
   ]
  },
  {
   "cell_type": "code",
   "execution_count": 14,
   "id": "e8fec893",
   "metadata": {},
   "outputs": [
    {
     "name": "stdout",
     "output_type": "stream",
     "text": [
      "🔹 Decision Tree Accuracy: 1.0000\n",
      "🔹 Random Forest Accuracy: 1.0000\n",
      "🔹 SVM Accuracy: 1.0000\n",
      "🔹 KNN Accuracy: 0.9500\n"
     ]
    },
    {
     "name": "stderr",
     "output_type": "stream",
     "text": [
      "/home/deva_kush/anaconda3/envs/ai-env/lib/python3.11/site-packages/xgboost/training.py:183: UserWarning: [18:31:35] WARNING: /workspace/src/learner.cc:738: \n",
      "Parameters: { \"use_label_encoder\" } are not used.\n",
      "\n",
      "  bst.update(dtrain, iteration=i, fobj=obj)\n"
     ]
    },
    {
     "name": "stdout",
     "output_type": "stream",
     "text": [
      "🔹 XGBoost Accuracy: 0.9667\n"
     ]
    }
   ],
   "source": [
    "from sklearn.tree import DecisionTreeClassifier\n",
    "from sklearn.ensemble import RandomForestClassifier\n",
    "from sklearn.svm import SVC\n",
    "from sklearn.neighbors import KNeighborsClassifier\n",
    "from xgboost import XGBClassifier\n",
    "from sklearn.metrics import accuracy_score\n",
    "\n",
    "models = {\n",
    "    'Decision Tree': DecisionTreeClassifier(),\n",
    "    'Random Forest': RandomForestClassifier(),\n",
    "    'SVM': SVC(),\n",
    "    'KNN': KNeighborsClassifier(),\n",
    "    'XGBoost': XGBClassifier(use_label_encoder=False, eval_metric='logloss')\n",
    "}\n",
    "\n",
    "for name, model in models.items():\n",
    "    model.fit(X_train, y_train)\n",
    "    y_pred = model.predict(X_test)\n",
    "    acc = accuracy_score(y_test, y_pred)\n",
    "    print(f\"🔹 {name} Accuracy: {acc:.4f}\")\n"
   ]
  },
  {
   "cell_type": "markdown",
   "id": "1d2b7d5b",
   "metadata": {},
   "source": [
    "### Validate Random Forest with Cross-Validation"
   ]
  },
  {
   "cell_type": "code",
   "execution_count": 15,
   "id": "14c757b6",
   "metadata": {},
   "outputs": [
    {
     "name": "stdout",
     "output_type": "stream",
     "text": [
      "Cross-Val Accuracy:  1.0\n"
     ]
    }
   ],
   "source": [
    "from sklearn.model_selection import cross_val_score\n",
    "\n",
    "rf = RandomForestClassifier()\n",
    "cv_scores = cross_val_score(rf, X, y, cv=5)\n",
    "print(\"Cross-Val Accuracy: \", cv_scores.mean())\n"
   ]
  },
  {
   "cell_type": "markdown",
   "id": "e20cbac6",
   "metadata": {},
   "source": [
    "### Feature Importance"
   ]
  },
  {
   "cell_type": "code",
   "execution_count": 16,
   "id": "42abdefa",
   "metadata": {},
   "outputs": [
    {
     "data": {
      "image/png": "[encoded data removed]",
      "text/plain": [
       "<Figure size 1200x600 with 1 Axes>"
      ]
     },
     "metadata": {},
     "output_type": "display_data"
    }
   ],
   "source": [
    "rf.fit(X_train, y_train)\n",
    "importances = rf.feature_importances_\n",
    "feature_names = X.columns\n",
    "\n",
    "importance_df = pd.DataFrame({'Feature': feature_names, 'Importance': importances})\n",
    "importance_df = importance_df.sort_values(by='Importance', ascending=False)\n",
    "\n",
    "# Plot\n",
    "import seaborn as sns\n",
    "import matplotlib.pyplot as plt\n",
    "\n",
    "plt.figure(figsize=(12,6))\n",
    "sns.barplot(x='Importance', y='Feature', data=importance_df.head(10))\n",
    "plt.title(\"Top 10 Important Features\")\n",
    "plt.show()\n"
   ]
  },
  {
   "cell_type": "markdown",
   "id": "c8c624c1",
   "metadata": {},
   "source": [
    "### Saving Model"
   ]
  },
  {
   "cell_type": "code",
   "execution_count": 19,
   "id": "aa41124e",
   "metadata": {},
   "outputs": [
    {
     "data": {
      "text/plain": [
       "['scaler.pkl']"
      ]
     },
     "execution_count": 19,
     "metadata": {},
     "output_type": "execute_result"
    }
   ],
   "source": [
    "import joblib\n",
    "\n",
    "# Save the model and any preprocessing pipeline if used\n",
    "joblib.dump(rf, 'ckd_model.pkl')\n",
    "\n",
    "joblib.dump(scaler, 'scaler.pkl')\n",
    "# No encoder was used, so nothing to save for encoder\n"
   ]
  },
  {
   "cell_type": "code",
   "execution_count": 20,
   "id": "55834aa6",
   "metadata": {},
   "outputs": [],
   "source": [
    "healthy = {\n",
    "    'age': 35, 'bp': 70, 'sg': 1.025, 'al': 0, 'su': 0,\n",
    "    'rbc': 1, 'pc': 1, 'pcc': 0, 'ba': 0, 'bgr': 99,\n",
    "    'bu': 20, 'sc': 1.0, 'sod': 138, 'pot': 4.2,\n",
    "    'hemo': 15.0, 'pcv': 42, 'wc': 7500, 'rc': 5.0,\n",
    "    'htn': 0, 'dm': 0, 'cad': 0, 'appet': 1, 'pe': 0, 'ane': 0\n",
    "}\n",
    "early_ckd = {\n",
    "    'age': 55, 'bp': 85, 'sg': 1.015, 'al': 2, 'su': 1,\n",
    "    'rbc': 0, 'pc': 0, 'pcc': 0, 'ba': 0, 'bgr': 160,\n",
    "    'bu': 55, 'sc': 2.0, 'sod': 132, 'pot': 4.8,\n",
    "    'hemo': 10.5, 'pcv': 34, 'wc': 9800, 'rc': 3.8,\n",
    "    'htn': 1, 'dm': 1, 'cad': 0, 'appet': 1, 'pe': 0, 'ane': 1\n",
    "}\n",
    "late_ckd = {\n",
    "    'age': 70, 'bp': 95, 'sg': 1.005, 'al': 4, 'su': 3,\n",
    "    'rbc': 0, 'pc': 0, 'pcc': 1, 'ba': 1, 'bgr': 250,\n",
    "    'bu': 130, 'sc': 5.8, 'sod': 128, 'pot': 6.2,\n",
    "    'hemo': 7.8, 'pcv': 25, 'wc': 11000, 'rc': 2.6,\n",
    "    'htn': 1, 'dm': 1, 'cad': 1, 'appet': 0, 'pe': 1, 'ane': 1\n",
    "}\n",
    "diabetic_no_ckd = {\n",
    "    'age': 45, 'bp': 75, 'sg': 1.020, 'al': 0, 'su': 0,\n",
    "    'rbc': 1, 'pc': 1, 'pcc': 0, 'ba': 0, 'bgr': 180,\n",
    "    'bu': 28, 'sc': 1.1, 'sod': 139, 'pot': 4.1,\n",
    "    'hemo': 13.5, 'pcv': 41, 'wc': 7600, 'rc': 4.9,\n",
    "    'htn': 0, 'dm': 1, 'cad': 0, 'appet': 1, 'pe': 0, 'ane': 0\n",
    "}\n"
   ]
  },
  {
   "cell_type": "code",
   "execution_count": 27,
   "id": "48095e09",
   "metadata": {},
   "outputs": [
    {
     "name": "stderr",
     "output_type": "stream",
     "text": [
      "/home/deva_kush/anaconda3/envs/ai-env/lib/python3.11/site-packages/xgboost/training.py:183: UserWarning: [19:26:17] WARNING: /workspace/src/learner.cc:738: \n",
      "Parameters: { \"use_label_encoder\" } are not used.\n",
      "\n",
      "  bst.update(dtrain, iteration=i, fobj=obj)\n"
     ]
    },
    {
     "name": "stdout",
     "output_type": "stream",
     "text": [
      "[0 1 1 0]\n"
     ]
    }
   ],
   "source": [
    "import pandas as pd\n",
    "\n",
    "xg = XGBClassifier(use_label_encoder=False, eval_metric='logloss')\n",
    "xg.fit(X_train, y_train)\n",
    "\n",
    "test_df = pd.DataFrame([healthy, early_ckd, late_ckd, diabetic_no_ckd])\n",
    "predictions = xg.predict(test_df)\n",
    "\n",
    "print(predictions)  # Output like: [0, 1, 1, 0, 1]\n"
   ]
  },
  {
   "cell_type": "code",
   "execution_count": 34,
   "id": "4a4d9f95",
   "metadata": {},
   "outputs": [
    {
     "data": {
      "text/plain": [
       "['ckd_xgb_model.pkl']"
      ]
     },
     "execution_count": 34,
     "metadata": {},
     "output_type": "execute_result"
    }
   ],
   "source": [
    "import joblib\n",
    "\n",
    "# Save the model and any preprocessing pipeline if used\n",
    "joblib.dump(rf, 'ckd_xgb_model.pkl')"
   ]
  },
  {
   "cell_type": "code",
   "execution_count": 28,
   "id": "00ac21ab",
   "metadata": {},
   "outputs": [
    {
     "name": "stdout",
     "output_type": "stream",
     "text": [
      "[1 1 1 1]\n"
     ]
    }
   ],
   "source": [
    "test_df = pd.DataFrame([healthy, early_ckd, late_ckd, diabetic_no_ckd])\n",
    "predictions = rf.predict(test_df)\n",
    "\n",
    "print(predictions)"
   ]
  },
  {
   "cell_type": "code",
   "execution_count": 32,
   "id": "5678dc1e",
   "metadata": {},
   "outputs": [
    {
     "name": "stdout",
     "output_type": "stream",
     "text": [
      "[1 1 1 1]\n"
     ]
    }
   ],
   "source": [
    "import pandas as pd\n",
    "\n",
    "kn = KNeighborsClassifier()\n",
    "kn.fit(X_train, y_train)\n",
    "\n",
    "test_df = pd.DataFrame([healthy, early_ckd, late_ckd, diabetic_no_ckd])\n",
    "predictions = kn.predict(test_df)\n",
    "\n",
    "print(predictions)"
   ]
  }
 ],
 "metadata": {
  "kernelspec": {
   "display_name": "ai-env",
   "language": "python",
   "name": "python3"
  },
  "language_info": {
   "codemirror_mode": {
    "name": "ipython",
    "version": 3
   },
   "file_extension": ".py",
   "mimetype": "text/x-python",
   "name": "python",
   "nbconvert_exporter": "python",
   "pygments_lexer": "ipython3",
   "version": "3.11.11"
  }
 },
 "nbformat": 4,
 "nbformat_minor": 5
}
